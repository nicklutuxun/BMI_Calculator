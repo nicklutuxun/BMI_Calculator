{
  "cells": [
    {
      "cell_type": "markdown",
      "metadata": {
        "id": "view-in-github",
        "colab_type": "text"
      },
      "source": [
        "<a href=\"https://colab.research.google.com/github/nicklutuxun/BMI_Calculator/blob/main/CS675_homework1_lab_fall22_2.ipynb\" target=\"_parent\"><img src=\"https://colab.research.google.com/assets/colab-badge.svg\" alt=\"Open In Colab\"/></a>"
      ]
    },
    {
      "cell_type": "markdown",
      "metadata": {
        "id": "ds8YZP-yWQPe"
      },
      "source": [
        "# Homework 1: Lab\n",
        "### 10 points total\n",
        "### Version 1.0"
      ]
    },
    {
      "cell_type": "markdown",
      "metadata": {
        "id": "21s7sXeOWQPg"
      },
      "source": [
        "PARTNER1NAME (PARTNER1JHED), PARTER2NAME (PARTNER2JHED), etc."
      ]
    },
    {
      "cell_type": "markdown",
      "metadata": {
        "id": "dAXaFDN1WQPh"
      },
      "source": [
        "**Instructions:**\n",
        "This notebook is intended to guide you through a regression task. Please answer all questions in this notebook (you will see <font color='blue'>TODO</font> annotations for where to include your answers). At the beginning of each part, we will bullet the expected deliverables for you to complete. All questions can be answered in 1-4 sentences, unless otherwise noted."
      ]
    },
    {
      "cell_type": "markdown",
      "metadata": {
        "id": "e-cH8eCxWQPh"
      },
      "source": [
        "## Part 1: Regression\n",
        "\n",
        "Things to do in this part:\n",
        "1. Find a dataset according to the instructions below\n",
        "2. Complete questions 1-2"
      ]
    },
    {
      "cell_type": "markdown",
      "metadata": {
        "id": "7wTMUf4JWQPh"
      },
      "source": [
        "Your task in this Lab is to explore a regression dataset from the UCI repository and train a linear regression model to solve the task."
      ]
    },
    {
      "cell_type": "markdown",
      "metadata": {
        "id": "I7qdEbUkWQPh"
      },
      "source": [
        "#### 1) Choose one datset from the UCI repository for regression task. \n",
        "\n",
        "https://archive.ics.uci.edu/ml/datasets.php?format=&task=reg&att=&area=&numAtt=&numIns=&type=&sort=nameUp&view=table\n",
        "\n",
        "*   Describe your dataset. State the features X and output variables Y you are interested in predicting clearly. What is the dimensionality of X and Y? Briefly, give some examples of what each dimension represents?"
      ]
    },
    {
      "cell_type": "markdown",
      "metadata": {
        "id": "ZGoGwhNiWQPh"
      },
      "source": [
        "<font color='blue'>\n",
        "    TODO: replace this cell with your answer\n",
        "</font>"
      ]
    },
    {
      "cell_type": "markdown",
      "metadata": {
        "id": "BoqrKjiNWQPi"
      },
      "source": [
        "* Print a few examples of datapoints to show what the raw data looks like.\n",
        "\n"
      ]
    },
    {
      "cell_type": "code",
      "execution_count": null,
      "metadata": {
        "id": "h-YC6tBMWQPi"
      },
      "outputs": [],
      "source": [
        "#######################################################\n",
        "# TODO: Read in your raw data\n",
        "# It is recommended you store your X and Y matrices into numpy arrays\n",
        "X = \n",
        "y = \n",
        "#######################################################\n",
        "\n",
        "print (X[:3]) #print the first three rows of your features\n",
        "print (Y[:3]) #print the first three rows of your features"
      ]
    },
    {
      "cell_type": "markdown",
      "metadata": {
        "id": "pY58PPv_WQPj"
      },
      "source": [
        "* Create 1 visualization that helps you understand the data. Below is an example from the Iris dataset. You will replace this for your regression dataset. One idea may be to create scatter plots of each feature in X with the output variable Y (the dependent variable)."
      ]
    },
    {
      "cell_type": "code",
      "execution_count": null,
      "metadata": {
        "colab": {
          "base_uri": "https://localhost:8080/",
          "height": 347
        },
        "id": "0WbgXP6DWQPj",
        "outputId": "123eb7e6-d8c7-4265-b61f-62c74245f14c"
      },
      "outputs": [
        {
          "output_type": "display_data",
          "data": {
            "text/plain": [
              "<Figure size 432x288 with 2 Axes>"
            ],
            "image/png": "[encoded data removed]"
          },
          "metadata": {
            "needs_background": "light"
          }
        }
      ],
      "source": [
        "from sklearn import datasets\n",
        "import numpy as np\n",
        "import seaborn as sns\n",
        "import matplotlib.pyplot as plt\n",
        "import pandas as pd\n",
        "\n",
        "iris = datasets.load_iris()\n",
        "df = pd.DataFrame(data= np.c_[iris['data'], iris['target']],\n",
        "                     columns= iris['feature_names'] + ['target'])\n",
        "sns.heatmap(df.corr(), \n",
        "            xticklabels=df.corr().columns.values,\n",
        "            yticklabels=df.corr().columns.values)\n",
        "plt.show()"
      ]
    },
    {
      "cell_type": "markdown",
      "metadata": {
        "id": "2gL-fOx4WQPk"
      },
      "source": [
        "* What insights do you gain from this visualization about your dataset? For example, in the above plot we see sepal length and sepal width are negatively correlated. In fact, sepalwidth is negatively correlated with all the features including the class label."
      ]
    },
    {
      "cell_type": "markdown",
      "metadata": {
        "id": "8TOkno_lWQPk"
      },
      "source": [
        "<font color='blue'>\n",
        "    TODO: replace this cell with your answer\n",
        "</font>"
      ]
    },
    {
      "cell_type": "markdown",
      "metadata": {
        "id": "Mh_Fe8t_WQPk"
      },
      "source": [
        "#### 2) Train a linear regression model\n",
        "\n",
        "* Create a train and test split for your dataset by diving the dataset into a 75-25 train-test split. If your chosen dataset already comes with a train-test split use that instead. Below is code for implementing a 75-25 split."
      ]
    },
    {
      "cell_type": "code",
      "execution_count": null,
      "metadata": {
        "id": "bzmWalRSWQPk"
      },
      "outputs": [],
      "source": [
        "from sklearn.model_selection import train_test_split \n",
        "\n",
        "# Train Test Split\n",
        "X_train, X_test, y_train, y_test = train_test_split(X, y, test_size=0.25, random_state=0)\n",
        "print(f'Training examples: {X_train.shape[0]}\\nTesting examples{ {X_test.shape[0]}}')"
      ]
    },
    {
      "cell_type": "markdown",
      "metadata": {
        "id": "ezL05ZhfWQPl"
      },
      "source": [
        "* Now that you have your train and test splits, it is time to train a linear regression model for making predictions on future data!  You are encouraged to use popular packages such as sklearn; you are not expected to implement any of these algorithms yourself. We use sklearn's Linear Regression algorithm below. "
      ]
    },
    {
      "cell_type": "markdown",
      "source": [],
      "metadata": {
        "id": "2f1uMQvvnhgm"
      }
    },
    {
      "cell_type": "code",
      "execution_count": null,
      "metadata": {
        "id": "_hKh43LoWQPl"
      },
      "outputs": [],
      "source": [
        "# from sklearn.linear_model import LinearRegression\n",
        "# from sklearn.metrics import mean_squared_error\n",
        "\n",
        "# reg = LinearRegression().fit(X_train, y_train)\n",
        "# y_hat = reg.predict(X_test)\n",
        "# r_squared = mean_squared_error(y_train, y_hat)\n",
        "# print(f'Mean Squared Error is {r_squared}')"
      ]
    },
    {
      "cell_type": "markdown",
      "metadata": {
        "id": "z0FjVNUPWQPl"
      },
      "source": [
        "* Explain what the MSE metric is? What value is expected for a good fit? Report your value on the above dataset. \n",
        "\n"
      ]
    },
    {
      "cell_type": "markdown",
      "metadata": {
        "id": "kCIZ86fGWQPl"
      },
      "source": [
        "<font color='blue'>\n",
        "    TODO: replace this cell with your answer\n",
        "</font>"
      ]
    },
    {
      "cell_type": "markdown",
      "metadata": {
        "id": "4s9Vx2EfWQPm"
      },
      "source": [
        "<font color='blue'>\n",
        "    TODO: replace this cell with your answer\n",
        "</font>"
      ]
    },
    {
      "cell_type": "markdown",
      "metadata": {
        "id": "IFl4Wk01WQPl"
      },
      "source": [
        "## Part 2: Regularization\n",
        "Things to do in this part:\n",
        "1. Find a dataset according to the instructions below\n",
        "2. Complete questions 3-4"
      ]
    },
    {
      "cell_type": "markdown",
      "metadata": {
        "id": "JOpDQl0mWQPm"
      },
      "source": [
        "#### 3) Using the same dataset as above, try ridge (l2 regularizatin on the weights) and lasso (l1 regularization on the weights). Below is sample code for doing the same for ridge regression. You are free to use this. You will implement your own version of l1 regularization (lasso). You are free to use built-in implementation for scikit-learn or any other machine learning library.\n",
        "\n",
        "\n"
      ]
    },
    {
      "cell_type": "code",
      "execution_count": null,
      "metadata": {
        "id": "pwhgpMhIWQPm"
      },
      "outputs": [],
      "source": [
        "# from sklearn.linear_model import Ridge \n",
        "\n",
        "# reg = Ridge(alpha=1.0).fit(X_train, y_train)\n",
        "# y_hat = reg.predict(X_test)\n",
        "# r_squared = reg.score(X_test, y_test)\n",
        "# print(f'Goodness of fit given by coefficient of determination is {r_squared}')"
      ]
    },
    {
      "cell_type": "markdown",
      "metadata": {
        "id": "-AvAzh51WQPm"
      },
      "source": [
        "* For both l1 and l2 regularization change the regularization hyperparameter (for example alpha hyperparameter in the above cell code for ridge regression) and report changes. What do you observe? Can you explain your observation in terms of model complexity, overfitting and underfitting?"
      ]
    },
    {
      "cell_type": "markdown",
      "metadata": {
        "id": "YXB3nFGtWQPm"
      },
      "source": [
        "<font color='blue'>\n",
        "    TODO: replace this cell with your answer\n",
        "</font>"
      ]
    },
    {
      "cell_type": "markdown",
      "metadata": {
        "id": "eiBp51WkWQPm"
      },
      "source": [
        "#### 4) Model Selection\n",
        "\n",
        "* In this part we would do model selection using different hyperparameters for regularizaiton we experimented with in the question 3. We would first split the dataset into train-val-test sets. Feel free to experiment with the below code to do so."
      ]
    },
    {
      "cell_type": "code",
      "execution_count": null,
      "metadata": {
        "id": "5ZL9xbpEWQPm"
      },
      "outputs": [],
      "source": [
        "from sklearn.model_selection import train_test_split \n",
        "\n",
        "#Divide dataset into a 80-20 random split into training and testing set\n",
        "X_train, X_test, y_train, y_test = train_test_split(X, y, test_size=0.2, random_state=1)\n",
        "\n",
        "#Divide the train set further into a 75-25 random split into train-val. If your dataset is small you might want to reduce the test-size parameter for val set.\n",
        "X_train, X_val, y_train, y_val = train_test_split(X_train, y_train, test_size=0.25, random_state=1) # 0.25 x 0.8 = 0.2"
      ]
    },
    {
      "cell_type": "markdown",
      "metadata": {
        "id": "tXZ5_HRoWQPm"
      },
      "source": [
        "* Do a grid-search for best hyperparameters by varying the hyperparameter controlling the l1 and l2 regularization of the weights in liner regression. Include the case where alpha=0 corresponding to vanilla linear regression in your experiment. For each hyperparameter, train your model and evaluate the performance on the validation set. Report this in a plot with x-axis being different hyperparameter values for the regularization coefficient and the y-axis being the validation MSE metric obtained. You will report 2 curves one for l1 regularization and one for l2."
      ]
    },
    {
      "cell_type": "markdown",
      "source": [
        "<font color='blue'>\n",
        "    TODO: replace this cell with your answer\n",
        "</font>"
      ],
      "metadata": {
        "id": "p2qMNfhztL3W"
      }
    },
    {
      "cell_type": "markdown",
      "metadata": {
        "id": "86gquHVkWQPm"
      },
      "source": [
        "* **bold text** Take your best performing hyperparameters from the previous question as your selected model and report the performance on test set. Is it better than what you reported in question 2?\n"
      ]
    },
    {
      "cell_type": "markdown",
      "metadata": {
        "id": "UHHowEVAWQPn"
      },
      "source": [
        "<font color='blue'>\n",
        "    TODO: replace this cell with your answer\n",
        "</font>"
      ]
    },
    {
      "cell_type": "markdown",
      "metadata": {
        "id": "bVbB1KtrWQPn"
      },
      "source": [
        "This concludes homework lab 1!"
      ]
    }
  ],
  "metadata": {
    "kernelspec": {
      "display_name": "Python 3",
      "language": "python",
      "name": "python3"
    },
    "language_info": {
      "codemirror_mode": {
        "name": "ipython",
        "version": 3
      },
      "file_extension": ".py",
      "mimetype": "text/x-python",
      "name": "python",
      "nbconvert_exporter": "python",
      "pygments_lexer": "ipython3",
      "version": "3.8.5"
    },
    "colab": {
      "provenance": [],
      "collapsed_sections": [],
      "include_colab_link": true
    }
  },
  "nbformat": 4,
  "nbformat_minor": 0
}